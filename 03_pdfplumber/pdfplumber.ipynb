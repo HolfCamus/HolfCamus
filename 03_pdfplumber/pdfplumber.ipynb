{
 "cells": [
  {
   "cell_type": "code",
   "execution_count": 2,
   "metadata": {},
   "outputs": [],
   "source": [
    "import os\n",
    "import pdfplumber"
   ]
  },
  {
   "cell_type": "code",
   "execution_count": 3,
   "metadata": {},
   "outputs": [],
   "source": [
    "pdf_path = r'F:\\HolfGit\\HolfCamus\\03_pdfplumber\\202403正常竞争者补充.pdf'\n",
    "txt_path = r'F:\\HolfGit\\HolfCamus\\03_pdfplumber\\202403正常竞争者补充.txt'"
   ]
  },
  {
   "cell_type": "code",
   "execution_count": 4,
   "metadata": {},
   "outputs": [],
   "source": [
    "with pdfplumber.open(pdf_path) as pdf, open(txt_path,mode='w',encoding='utf-8') as txt:\n",
    "    for page in pdf.pages:\n",
    "        # 提取当前 page 的文本\n",
    "        text = page.extract_text()\n",
    "\n",
    "        # 把提取出来的文本写入 txt 文件\n",
    "        if text:\n",
    "            txt.write(text)\n",
    "            txt.write('\\n\\n')"
   ]
  },
  {
   "cell_type": "code",
   "execution_count": null,
   "metadata": {},
   "outputs": [],
   "source": []
  }
 ],
 "metadata": {
  "kernelspec": {
   "display_name": "Python 3",
   "language": "python",
   "name": "python3"
  },
  "language_info": {
   "codemirror_mode": {
    "name": "ipython",
    "version": 3
   },
   "file_extension": ".py",
   "mimetype": "text/x-python",
   "name": "python",
   "nbconvert_exporter": "python",
   "pygments_lexer": "ipython3",
   "version": "3.12.0"
  }
 },
 "nbformat": 4,
 "nbformat_minor": 2
}
